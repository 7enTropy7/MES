{
 "cells": [
  {
   "cell_type": "markdown",
   "metadata": {},
   "source": [
    "# MES Experimental Analysis\n",
    "This file contains all the experimental analysis required to prove the worth and place of the proposed cryptosystem, among the already existing pool"
   ]
  },
  {
   "cell_type": "markdown",
   "metadata": {},
   "source": [
    "## Block Size vs Runtime"
   ]
  },
  {
   "cell_type": "code",
   "execution_count": 1,
   "metadata": {},
   "outputs": [],
   "source": [
    "import numpy as np\n",
    "from sympy import prime\n",
    "from sympy.ntheory.modular import crt\n",
    "import random\n",
    "import time\n",
    "from matplotlib import pyplot as plt\n",
    "%matplotlib inline"
   ]
  },
  {
   "cell_type": "markdown",
   "metadata": {},
   "source": [
    "## Cantor Pairing Function\n",
    "This function takes in a point $(x,y)$ and converts to a single number $t$ and vice versa"
   ]
  },
  {
   "cell_type": "code",
   "execution_count": 2,
   "metadata": {},
   "outputs": [],
   "source": [
    "def cantor_pair(k1, k2, safe=True):\n",
    "    z = int(0.5 * (k1 + k2) * (k1 + k2 + 1) + k2)\n",
    "    if safe and (k1, k2) != cantor_unpair(z):\n",
    "        raise ValueError(\"{} and {} cannot be paired\".format(k1, k2))\n",
    "    return z\n",
    "\n",
    "def cantor_unpair(z):\n",
    "    w = np.floor((np.sqrt(8 * z + 1) - 1) / 2)\n",
    "    t = (w**2 + w) / 2\n",
    "    y = int(z - t)\n",
    "    x = int(w - y)\n",
    "    # assert z != pair(x, y, safe=False):\n",
    "    return (x, y)"
   ]
  },
  {
   "cell_type": "markdown",
   "metadata": {},
   "source": [
    "A padding function is required since we are applying a block cipher technique here"
   ]
  },
  {
   "cell_type": "code",
   "execution_count": 3,
   "metadata": {},
   "outputs": [],
   "source": [
    "def padding(plain_text,block_size):\n",
    "    plain_text += '0'*(block_size-len(plain_text))\n",
    "    return plain_text\n",
    "\n",
    "def chunkstring(string, length):\n",
    "    return list(string[0+i:length+i] for i in range(0, len(string), length))\n",
    "\n",
    "def reduced_ascii_chunks(ascii_chunks):\n",
    "    cantor_reduced_list = []\n",
    "    for i in range(0,len(ascii_chunks)-1,2):\n",
    "        cantor_reduced_list.append(cantor_pair(ascii_chunks[i],ascii_chunks[i+1]))\n",
    "    return cantor_reduced_list"
   ]
  },
  {
   "cell_type": "code",
   "execution_count": 4,
   "metadata": {},
   "outputs": [],
   "source": [
    "def encrypt_decrypt(plain_text,block_size):\n",
    "    t1 = time.time()\n",
    "    n = len(plain_text)\n",
    "    \n",
    "    plain_text_chunks = []\n",
    "    if n < block_size:\n",
    "        plain_text_chunks.append(padding(plain_text,block_size))\n",
    "    else:\n",
    "        chunks = chunkstring(plain_text,block_size)\n",
    "        for i in range(len(chunks)):\n",
    "            plain_text_chunks.append(padding(chunks[i],block_size))\n",
    "\n",
    "    ascii_chunks = []\n",
    "    for chunk in plain_text_chunks:\n",
    "        t = []\n",
    "        for i in chunk:\n",
    "            t.append(ord(i))\n",
    "        ascii_chunks.append(t)\n",
    "\n",
    "    cantor_reduced_list = []\n",
    "    for chunk in ascii_chunks:\n",
    "        cantor_reduced_list.append(reduced_ascii_chunks(chunk))\n",
    "\n",
    "    temp = []\n",
    "    for chunk in cantor_reduced_list:\n",
    "        for i in chunk:\n",
    "            temp.append(i)\n",
    "    lower_index = max(temp)\n",
    "\n",
    "    M = []\n",
    "    for i in range(block_size//2):\n",
    "        x = prime(random.randint(lower_index,lower_index+1000))\n",
    "        if x not in M:\n",
    "            M.append(x)\n",
    "\n",
    "    # print('Private key generated : ',end='')\n",
    "    # print(M)\n",
    "\n",
    "    # Applying the Chinese Remainder Theorem to get X\n",
    "\n",
    "    cipher_text = []\n",
    "    for chunk in cantor_reduced_list:\n",
    "        x = crt(M,chunk)\n",
    "        cipher_text.append(round(x[0]))\n",
    "    # print('Encrypted Cipher Text : ',cipher_text)\n",
    "\n",
    "\n",
    "    # ---------------------------------DECRYPTION-----------------------------------\n",
    "    # private_key - known\n",
    "    # cipher_text - known\n",
    "    # block_size  - known\n",
    "\n",
    "\n",
    "    dec_M = M\n",
    "\n",
    "    dec_cantor_reduced_list = []\n",
    "    for x in cipher_text:\n",
    "        t = []\n",
    "        for mi in dec_M:\n",
    "            t.append(x%mi)\n",
    "        dec_cantor_reduced_list.append(t)\n",
    "    # print(dec_cantor_reduced_list)\n",
    "\n",
    "    decrypted_ascii_list = []\n",
    "    for chunk in dec_cantor_reduced_list:\n",
    "        t = []\n",
    "        for i in range(len(chunk)):\n",
    "            x,y = cantor_unpair(chunk[i])\n",
    "            t.append(x)\n",
    "            t.append(y)\n",
    "        decrypted_ascii_list.append(t)\n",
    "    \n",
    "    decrypted_text_list = []\n",
    "    for chunk in decrypted_ascii_list:\n",
    "        for i in chunk:\n",
    "            if chr(i)!='0':\n",
    "                decrypted_text_list.append(chr(i))\n",
    "    # print('Decrypted Text : ',end='')\n",
    "    # print(''.join(map(lambda x:str(x),decrypted_text_list)))\n",
    "    print('Operation Runtime : {} seconds'.format(time.time()-t1))"
   ]
  },
  {
   "cell_type": "markdown",
   "metadata": {},
   "source": [
    "We define a custom string for testing purposes"
   ]
  },
  {
   "cell_type": "code",
   "execution_count": 5,
   "metadata": {},
   "outputs": [],
   "source": [
    "plain_text = \"Hello Fawlty Towers, how are you, its nice day\""
   ]
  },
  {
   "cell_type": "code",
   "execution_count": 6,
   "metadata": {},
   "outputs": [
    {
     "ename": "TypeError",
     "evalue": "'module' object is not callable",
     "output_type": "error",
     "traceback": [
      "\u001b[0;31m---------------------------------------------------------------------------\u001b[0m",
      "\u001b[0;31mTypeError\u001b[0m                                 Traceback (most recent call last)",
      "\u001b[0;32m<ipython-input-6-d68da4ae4394>\u001b[0m in \u001b[0;36m<module>\u001b[0;34m\u001b[0m\n\u001b[1;32m      2\u001b[0m \u001b[0;32mfor\u001b[0m \u001b[0mi\u001b[0m \u001b[0;32min\u001b[0m \u001b[0mrange\u001b[0m\u001b[0;34m(\u001b[0m\u001b[0;36m2\u001b[0m\u001b[0;34m,\u001b[0m \u001b[0;36m257\u001b[0m\u001b[0;34m)\u001b[0m\u001b[0;34m:\u001b[0m\u001b[0;34m\u001b[0m\u001b[0;34m\u001b[0m\u001b[0m\n\u001b[1;32m      3\u001b[0m     \u001b[0mblock_size\u001b[0m \u001b[0;34m=\u001b[0m \u001b[0mi\u001b[0m\u001b[0;34m\u001b[0m\u001b[0;34m\u001b[0m\u001b[0m\n\u001b[0;32m----> 4\u001b[0;31m     \u001b[0mt1\u001b[0m \u001b[0;34m=\u001b[0m \u001b[0mtime\u001b[0m\u001b[0;34m(\u001b[0m\u001b[0;34m)\u001b[0m\u001b[0;34m\u001b[0m\u001b[0;34m\u001b[0m\u001b[0m\n\u001b[0m\u001b[1;32m      5\u001b[0m     \u001b[0mencrypt_decrypt\u001b[0m\u001b[0;34m(\u001b[0m\u001b[0mplain_text\u001b[0m\u001b[0;34m,\u001b[0m \u001b[0mblock_size\u001b[0m\u001b[0;34m)\u001b[0m\u001b[0;34m\u001b[0m\u001b[0;34m\u001b[0m\u001b[0m\n\u001b[1;32m      6\u001b[0m     \u001b[0mt2\u001b[0m \u001b[0;34m=\u001b[0m \u001b[0mtime\u001b[0m\u001b[0;34m(\u001b[0m\u001b[0;34m)\u001b[0m\u001b[0;34m\u001b[0m\u001b[0;34m\u001b[0m\u001b[0m\n",
      "\u001b[0;31mTypeError\u001b[0m: 'module' object is not callable"
     ]
    }
   ],
   "source": [
    "t_lst = []\n",
    "for i in range(2, 257):\n",
    "    block_size = i\n",
    "    t1 = time()\n",
    "    encrypt_decrypt(plain_text, block_size)\n",
    "    t2 = time()\n",
    "\n",
    "    t_lst.append(t2-t1)\n",
    "\n",
    "x = np.arange(2,257)  # the label locations\n",
    "width = 0.25  # the width of the bars\n",
    "\n",
    "fig, ax = plt.subplots()\n",
    "# Set position of bar on X axis\n",
    "plt.bar(x, t_lst, width=width)\n",
    "plt.show()"
   ]
  },
  {
   "cell_type": "code",
   "execution_count": null,
   "metadata": {},
   "outputs": [],
   "source": []
  },
  {
   "cell_type": "code",
   "execution_count": null,
   "metadata": {},
   "outputs": [],
   "source": []
  }
 ],
 "metadata": {
  "kernelspec": {
   "display_name": "Python 3",
   "language": "python",
   "name": "python3"
  },
  "language_info": {
   "codemirror_mode": {
    "name": "ipython",
    "version": 3
   },
   "file_extension": ".py",
   "mimetype": "text/x-python",
   "name": "python",
   "nbconvert_exporter": "python",
   "pygments_lexer": "ipython3",
   "version": "3.8.3"
  }
 },
 "nbformat": 4,
 "nbformat_minor": 4
}
