{
 "cells": [
  {
   "cell_type": "markdown",
   "metadata": {},
   "source": [
    "# MES Experimental Analysis\n",
    "This file contains all the experimental analysis required to prove the worth and place of the proposed cryptosystem, among the already existing pool"
   ]
  },
  {
   "cell_type": "markdown",
   "metadata": {},
   "source": [
    "## Block Size vs Runtime"
   ]
  },
  {
   "cell_type": "code",
   "execution_count": 1,
   "metadata": {},
   "outputs": [],
   "source": [
    "import numpy as np\n",
    "from sympy import prime\n",
    "from sympy.ntheory.modular import crt\n",
    "import random\n",
    "import time\n",
    "from matplotlib import pyplot as plt\n",
    "%matplotlib inline"
   ]
  },
  {
   "cell_type": "markdown",
   "metadata": {},
   "source": [
    "## Cantor Pairing Function\n",
    "This function takes in a point $(x,y)$ and converts to a single number $t$ and vice versa"
   ]
  },
  {
   "cell_type": "code",
   "execution_count": 2,
   "metadata": {},
   "outputs": [],
   "source": [
    "def cantor_pair(k1, k2, safe=True):\n",
    "    z = int(0.5 * (k1 + k2) * (k1 + k2 + 1) + k2)\n",
    "    if safe and (k1, k2) != cantor_unpair(z):\n",
    "        raise ValueError(\"{} and {} cannot be paired\".format(k1, k2))\n",
    "    return z\n",
    "\n",
    "def cantor_unpair(z):\n",
    "    w = np.floor((np.sqrt(8 * z + 1) - 1) / 2)\n",
    "    t = (w**2 + w) / 2\n",
    "    y = int(z - t)\n",
    "    x = int(w - y)\n",
    "    # assert z != pair(x, y, safe=False):\n",
    "    return (x, y)"
   ]
  },
  {
   "cell_type": "markdown",
   "metadata": {},
   "source": [
    "A padding function is required since we are applying a block cipher technique here"
   ]
  },
  {
   "cell_type": "code",
   "execution_count": 3,
   "metadata": {},
   "outputs": [],
   "source": [
    "def padding(plain_text,block_size):\n",
    "    plain_text += '0'*(block_size-len(plain_text))\n",
    "    return plain_text\n",
    "\n",
    "def chunkstring(string, length):\n",
    "    return list(string[0+i:length+i] for i in range(0, len(string), length))\n",
    "\n",
    "def reduced_ascii_chunks(ascii_chunks):\n",
    "    cantor_reduced_list = []\n",
    "    for i in range(0,len(ascii_chunks)-1,2):\n",
    "        cantor_reduced_list.append(cantor_pair(ascii_chunks[i],ascii_chunks[i+1]))\n",
    "    return cantor_reduced_list"
   ]
  },
  {
   "cell_type": "code",
   "execution_count": 4,
   "metadata": {},
   "outputs": [],
   "source": [
    "def encrypt_decrypt(plain_text,block_size):\n",
    "    t1 = time.time()\n",
    "    n = len(plain_text)\n",
    "    \n",
    "    plain_text_chunks = []\n",
    "    if n < block_size:\n",
    "        plain_text_chunks.append(padding(plain_text,block_size))\n",
    "    else:\n",
    "        chunks = chunkstring(plain_text,block_size)\n",
    "        for i in range(len(chunks)):\n",
    "            plain_text_chunks.append(padding(chunks[i],block_size))\n",
    "\n",
    "    ascii_chunks = []\n",
    "    for chunk in plain_text_chunks:\n",
    "        t = []\n",
    "        for i in chunk:\n",
    "            t.append(ord(i))\n",
    "        ascii_chunks.append(t)\n",
    "\n",
    "    cantor_reduced_list = []\n",
    "    for chunk in ascii_chunks:\n",
    "        cantor_reduced_list.append(reduced_ascii_chunks(chunk))\n",
    "        \n",
    "    temp = []\n",
    "    for chunk in cantor_reduced_list:\n",
    "        for i in chunk:\n",
    "            temp.append(i)\n",
    "    lower_index = max(temp)\n",
    "\n",
    "    M = []\n",
    "    for i in range(block_size//2):\n",
    "        x = prime(random.randint(lower_index,lower_index+1000))\n",
    "        if x not in M:\n",
    "            M.append(x)\n",
    "\n",
    "    # print('Private key generated : ',end='')\n",
    "    # print(M)\n",
    "\n",
    "    # Applying the Chinese Remainder Theorem to get X\n",
    "\n",
    "    cipher_text = []\n",
    "    for chunk in cantor_reduced_list:\n",
    "        x = crt(M,chunk)\n",
    "        cipher_text.append(round(x[0]))\n",
    "    # print('Encrypted Cipher Text : ',cipher_text)\n",
    "\n",
    "\n",
    "    # ---------------------------------DECRYPTION-----------------------------------\n",
    "    # private_key - known\n",
    "    # cipher_text - known\n",
    "    # block_size  - known\n",
    "\n",
    "\n",
    "    dec_M = M\n",
    "\n",
    "    dec_cantor_reduced_list = []\n",
    "    for x in cipher_text:\n",
    "        t = []\n",
    "        for mi in dec_M:\n",
    "            t.append(x%mi)\n",
    "        dec_cantor_reduced_list.append(t)\n",
    "    # print(dec_cantor_reduced_list)\n",
    "\n",
    "    decrypted_ascii_list = []\n",
    "    for chunk in dec_cantor_reduced_list:\n",
    "        t = []\n",
    "        for i in range(len(chunk)):\n",
    "            x,y = cantor_unpair(chunk[i])\n",
    "            t.append(x)\n",
    "            t.append(y)\n",
    "        decrypted_ascii_list.append(t)\n",
    "    \n",
    "    decrypted_text_list = []\n",
    "    for chunk in decrypted_ascii_list:\n",
    "        for i in chunk:\n",
    "            if chr(i)!='0':\n",
    "                decrypted_text_list.append(chr(i))\n",
    "    # print('Decrypted Text : ',end='')\n",
    "    # print(''.join(map(lambda x:str(x),decrypted_text_list)))\n",
    "    return time.time()-t1"
   ]
  },
  {
   "cell_type": "markdown",
   "metadata": {},
   "source": [
    "We define a custom string for testing purposes"
   ]
  },
  {
   "cell_type": "code",
   "execution_count": 5,
   "metadata": {},
   "outputs": [],
   "source": [
    "# plain_text = \"Hello Fawlty Towers, how are you, its nice day\"\n",
    "plain_text = 'abcdefghijklmnopqrstuvwxyz'*1000"
   ]
  },
  {
   "cell_type": "code",
   "execution_count": 6,
   "metadata": {},
   "outputs": [
    {
     "name": "stdout",
     "output_type": "stream",
     "text": [
      "Block_size:2  --------  Time:0.3151109218597412\n",
      "Block_size:3  --------  Time:0.16269254684448242\n",
      "Block_size:4  --------  Time:0.301058292388916\n",
      "Block_size:5  --------  Time:0.4296534061431885\n",
      "Block_size:6  --------  Time:0.30712437629699707\n",
      "Block_size:7  --------  Time:0.25951242446899414\n",
      "Block_size:8  --------  Time:0.38043999671936035\n",
      "Block_size:9  --------  Time:0.3296360969543457\n",
      "Block_size:10  --------  Time:0.4409980773925781\n",
      "Block_size:11  --------  Time:0.41253185272216797\n",
      "Block_size:12  --------  Time:0.4725775718688965\n",
      "Block_size:13  --------  Time:0.5027313232421875\n",
      "Block_size:14  --------  Time:0.4830944538116455\n",
      "Block_size:15  --------  Time:0.47850751876831055\n",
      "Block_size:16  --------  Time:0.5471806526184082\n",
      "Block_size:17  --------  Time:0.5586509704589844\n",
      "Block_size:18  --------  Time:0.6840083599090576\n",
      "Block_size:19  --------  Time:0.5301127433776855\n",
      "Block_size:20  --------  Time:0.5292501449584961\n",
      "Block_size:21  --------  Time:0.5130834579467773\n",
      "Block_size:22  --------  Time:0.556344747543335\n",
      "Block_size:23  --------  Time:0.7109653949737549\n",
      "Block_size:24  --------  Time:0.5771644115447998\n",
      "Block_size:25  --------  Time:0.5750558376312256\n",
      "Block_size:26  --------  Time:0.6078143119812012\n",
      "Block_size:27  --------  Time:0.6144707202911377\n",
      "Block_size:28  --------  Time:0.6138796806335449\n",
      "Block_size:29  --------  Time:66.5718047618866\n",
      "Block_size:30  --------  Time:0.6851916313171387\n",
      "Block_size:31  --------  Time:0.6697788238525391\n",
      "Block_size:32  --------  Time:0.7086994647979736\n",
      "Block_size:33  --------  Time:0.6972064971923828\n",
      "Block_size:34  --------  Time:0.7362806797027588\n",
      "Block_size:35  --------  Time:0.756096601486206\n",
      "Block_size:36  --------  Time:0.7707667350769043\n",
      "Block_size:37  --------  Time:0.7655718326568604\n",
      "Block_size:38  --------  Time:0.7797119617462158\n",
      "Block_size:39  --------  Time:0.7920999526977539\n",
      "Block_size:40  --------  Time:0.8358325958251953\n",
      "Block_size:41  --------  Time:0.8345222473144531\n",
      "Block_size:42  --------  Time:0.8426167964935303\n",
      "Block_size:43  --------  Time:0.8657951354980469\n",
      "Block_size:44  --------  Time:0.9072251319885254\n",
      "Block_size:45  --------  Time:0.8865542411804199\n",
      "Block_size:46  --------  Time:0.9814958572387695\n",
      "Block_size:47  --------  Time:0.9384539127349854\n",
      "Block_size:48  --------  Time:0.965717077255249\n",
      "Block_size:49  --------  Time:0.9600563049316406\n",
      "Block_size:50  --------  Time:1.1180555820465088\n",
      "Block_size:51  --------  Time:1.0024843215942383\n",
      "Block_size:52  --------  Time:1.0461182594299316\n",
      "Block_size:53  --------  Time:1.0407521724700928\n",
      "Block_size:54  --------  Time:1.0774002075195312\n",
      "Block_size:55  --------  Time:1.073265552520752\n",
      "Block_size:56  --------  Time:1.0950982570648193\n",
      "Block_size:57  --------  Time:1.0894808769226074\n",
      "Block_size:58  --------  Time:1.1474969387054443\n",
      "Block_size:59  --------  Time:1.1401960849761963\n",
      "Block_size:60  --------  Time:1.170393705368042\n",
      "Block_size:61  --------  Time:1.1644346714019775\n",
      "Block_size:62  --------  Time:5.896473407745361\n",
      "Block_size:63  --------  Time:1.1834123134613037\n",
      "Block_size:64  --------  Time:4.258577108383179\n",
      "Block_size:65  --------  Time:1.1987483501434326\n",
      "Block_size:66  --------  Time:1.2732059955596924\n",
      "Block_size:67  --------  Time:1.7100892066955566\n",
      "Block_size:68  --------  Time:1.3005285263061523\n",
      "Block_size:69  --------  Time:1.2863683700561523\n",
      "Block_size:70  --------  Time:1.3075056076049805\n",
      "Block_size:71  --------  Time:1.3078978061676025\n",
      "Block_size:72  --------  Time:1.3524532318115234\n",
      "Block_size:73  --------  Time:1.3606390953063965\n",
      "Block_size:74  --------  Time:1.4017224311828613\n",
      "Block_size:75  --------  Time:1.3478338718414307\n",
      "Block_size:76  --------  Time:1.4513180255889893\n",
      "Block_size:77  --------  Time:1.5783557891845703\n",
      "Block_size:78  --------  Time:1.4118165969848633\n",
      "Block_size:79  --------  Time:1.4938278198242188\n",
      "Block_size:80  --------  Time:1.481987714767456\n",
      "Block_size:81  --------  Time:1.4617021083831787\n",
      "Block_size:82  --------  Time:1.6222312450408936\n",
      "Block_size:83  --------  Time:1.4968926906585693\n",
      "Block_size:84  --------  Time:1.5368900299072266\n",
      "Block_size:85  --------  Time:1.8154361248016357\n",
      "Block_size:86  --------  Time:1.712982177734375\n",
      "Block_size:87  --------  Time:1.561117172241211\n",
      "Block_size:88  --------  Time:1.6204311847686768\n",
      "Block_size:89  --------  Time:67.30520963668823\n",
      "Block_size:90  --------  Time:1.6571400165557861\n",
      "Block_size:91  --------  Time:1.6580674648284912\n",
      "Block_size:92  --------  Time:1.6819767951965332\n",
      "Block_size:93  --------  Time:1.657625436782837\n",
      "Block_size:94  --------  Time:1.6774282455444336\n",
      "Block_size:95  --------  Time:1.7648775577545166\n",
      "Block_size:96  --------  Time:1.7308905124664307\n",
      "Block_size:97  --------  Time:1.7189693450927734\n",
      "Block_size:98  --------  Time:1.7644789218902588\n",
      "Block_size:99  --------  Time:2.003000259399414\n",
      "Block_size:100  --------  Time:2.039987087249756\n",
      "Block_size:101  --------  Time:1.7923953533172607\n",
      "Block_size:102  --------  Time:6.524694919586182\n",
      "Block_size:103  --------  Time:1.8260676860809326\n",
      "Block_size:104  --------  Time:1.9123895168304443\n",
      "Block_size:105  --------  Time:1.8892955780029297\n",
      "Block_size:106  --------  Time:67.97717428207397\n",
      "Block_size:107  --------  Time:1.9297261238098145\n",
      "Block_size:108  --------  Time:1.9553472995758057\n",
      "Block_size:109  --------  Time:1.9477331638336182\n",
      "Block_size:110  --------  Time:1.9593579769134521\n",
      "Block_size:111  --------  Time:1.9559345245361328\n",
      "Block_size:112  --------  Time:1.9568202495574951\n",
      "Block_size:113  --------  Time:2.0120961666107178\n",
      "Block_size:114  --------  Time:2.0344338417053223\n",
      "Block_size:115  --------  Time:2.289595365524292\n",
      "Block_size:116  --------  Time:2.1790637969970703\n",
      "Block_size:117  --------  Time:2.122892141342163\n",
      "Block_size:118  --------  Time:2.102980613708496\n",
      "Block_size:119  --------  Time:2.0799829959869385\n",
      "Block_size:120  --------  Time:2.12774658203125\n",
      "Block_size:121  --------  Time:5.181310653686523\n",
      "Block_size:122  --------  Time:2.1673471927642822\n",
      "Block_size:123  --------  Time:2.1626360416412354\n",
      "Block_size:124  --------  Time:2.4718196392059326\n",
      "Block_size:125  --------  Time:2.1542279720306396\n",
      "Block_size:126  --------  Time:2.2474443912506104\n",
      "Block_size:127  --------  Time:2.245007038116455\n",
      "Block_size:128  --------  Time:69.54593420028687\n",
      "Block_size:129  --------  Time:2.6666157245635986\n",
      "Block_size:130  --------  Time:2.4427011013031006\n",
      "Block_size:131  --------  Time:2.3353071212768555\n",
      "Block_size:132  --------  Time:2.367602825164795\n",
      "Block_size:133  --------  Time:2.314649820327759\n",
      "Block_size:134  --------  Time:2.374795436859131\n",
      "Block_size:135  --------  Time:7.024912118911743\n",
      "Block_size:136  --------  Time:2.3769986629486084\n",
      "Block_size:137  --------  Time:2.4925129413604736\n",
      "Block_size:138  --------  Time:2.403473138809204\n",
      "Block_size:139  --------  Time:5.402206659317017\n",
      "Block_size:140  --------  Time:2.4424209594726562\n",
      "Block_size:141  --------  Time:2.439077138900757\n",
      "Block_size:142  --------  Time:2.513599157333374\n",
      "Block_size:143  --------  Time:2.4592058658599854\n",
      "Block_size:144  --------  Time:2.479991912841797\n",
      "Block_size:145  --------  Time:2.5122811794281006\n",
      "Block_size:146  --------  Time:2.6639060974121094\n",
      "Block_size:147  --------  Time:2.5577712059020996\n",
      "Block_size:148  --------  Time:2.578267812728882\n",
      "Block_size:149  --------  Time:2.5434751510620117\n",
      "Block_size:150  --------  Time:2.602513074874878\n",
      "Block_size:151  --------  Time:2.5957729816436768\n",
      "Block_size:152  --------  Time:2.797017812728882\n",
      "Block_size:153  --------  Time:2.9155683517456055\n",
      "Block_size:154  --------  Time:5.7206597328186035\n",
      "Block_size:155  --------  Time:2.6725854873657227\n",
      "Block_size:156  --------  Time:2.693567991256714\n",
      "Block_size:157  --------  Time:2.8228187561035156\n",
      "Block_size:158  --------  Time:2.7311606407165527\n",
      "Block_size:159  --------  Time:2.8502285480499268\n",
      "Block_size:160  --------  Time:2.7949938774108887\n",
      "Block_size:161  --------  Time:2.767012357711792\n",
      "Block_size:162  --------  Time:2.8263211250305176\n",
      "Block_size:163  --------  Time:2.7966408729553223\n",
      "Block_size:164  --------  Time:3.0293076038360596\n",
      "Block_size:165  --------  Time:2.7804293632507324\n",
      "Block_size:166  --------  Time:2.8480567932128906\n",
      "Block_size:167  --------  Time:2.828721284866333\n",
      "Block_size:168  --------  Time:2.8984756469726562\n"
     ]
    },
    {
     "name": "stdout",
     "output_type": "stream",
     "text": [
      "Block_size:169  --------  Time:2.859368324279785\n",
      "Block_size:170  --------  Time:2.9054291248321533\n",
      "Block_size:171  --------  Time:2.901886224746704\n",
      "Block_size:172  --------  Time:6.0920538902282715\n",
      "Block_size:173  --------  Time:2.850105047225952\n",
      "Block_size:174  --------  Time:2.9800212383270264\n",
      "Block_size:175  --------  Time:69.17039918899536\n",
      "Block_size:176  --------  Time:3.025533676147461\n",
      "Block_size:177  --------  Time:3.3000640869140625\n",
      "Block_size:178  --------  Time:3.0339951515197754\n",
      "Block_size:179  --------  Time:3.0989017486572266\n",
      "Block_size:180  --------  Time:3.0972001552581787\n",
      "Block_size:181  --------  Time:3.0191237926483154\n",
      "Block_size:182  --------  Time:3.12483286857605\n",
      "Block_size:183  --------  Time:3.098531484603882\n",
      "Block_size:184  --------  Time:3.153850555419922\n",
      "Block_size:185  --------  Time:3.22874116897583\n",
      "Block_size:186  --------  Time:3.3845608234405518\n",
      "Block_size:187  --------  Time:3.1340529918670654\n",
      "Block_size:188  --------  Time:3.2069268226623535\n",
      "Block_size:189  --------  Time:3.312439441680908\n",
      "Block_size:190  --------  Time:3.464653253555298\n",
      "Block_size:191  --------  Time:3.2243385314941406\n",
      "Block_size:192  --------  Time:3.277980327606201\n",
      "Block_size:193  --------  Time:3.324326753616333\n",
      "Block_size:194  --------  Time:3.3321151733398438\n",
      "Block_size:195  --------  Time:6.213540315628052\n",
      "Block_size:196  --------  Time:3.278083324432373\n",
      "Block_size:197  --------  Time:3.328958749771118\n",
      "Block_size:198  --------  Time:3.3357183933258057\n",
      "Block_size:199  --------  Time:3.4027462005615234\n",
      "Block_size:200  --------  Time:3.3987464904785156\n",
      "Block_size:201  --------  Time:3.384063482284546\n",
      "Block_size:202  --------  Time:3.4654712677001953\n",
      "Block_size:203  --------  Time:8.084441184997559\n",
      "Block_size:204  --------  Time:3.4011619091033936\n",
      "Block_size:205  --------  Time:3.5654327869415283\n",
      "Block_size:206  --------  Time:3.5972604751586914\n",
      "Block_size:207  --------  Time:3.525439739227295\n",
      "Block_size:208  --------  Time:69.48287749290466\n",
      "Block_size:209  --------  Time:3.532860279083252\n",
      "Block_size:210  --------  Time:3.5810739994049072\n",
      "Block_size:211  --------  Time:3.5524351596832275\n",
      "Block_size:212  --------  Time:3.5934112071990967\n",
      "Block_size:213  --------  Time:3.8679144382476807\n",
      "Block_size:214  --------  Time:3.652611017227173\n",
      "Block_size:215  --------  Time:3.617326259613037\n",
      "Block_size:216  --------  Time:3.9991719722747803\n",
      "Block_size:217  --------  Time:3.6445860862731934\n",
      "Block_size:218  --------  Time:3.7116401195526123\n",
      "Block_size:219  --------  Time:3.616802215576172\n",
      "Block_size:220  --------  Time:3.699619770050049\n",
      "Block_size:221  --------  Time:3.710569143295288\n",
      "Block_size:222  --------  Time:3.821232557296753\n",
      "Block_size:223  --------  Time:8.462171077728271\n",
      "Block_size:224  --------  Time:3.917222261428833\n",
      "Block_size:225  --------  Time:4.056881904602051\n",
      "Block_size:226  --------  Time:3.8147878646850586\n",
      "Block_size:227  --------  Time:3.749770402908325\n",
      "Block_size:228  --------  Time:3.868136405944824\n",
      "Block_size:229  --------  Time:3.870971918106079\n",
      "Block_size:230  --------  Time:4.1047868728637695\n",
      "Block_size:231  --------  Time:3.892179250717163\n",
      "Block_size:232  --------  Time:3.943087577819824\n",
      "Block_size:233  --------  Time:3.9097061157226562\n",
      "Block_size:234  --------  Time:4.237009763717651\n",
      "Block_size:235  --------  Time:6.954308986663818\n",
      "Block_size:236  --------  Time:3.9887375831604004\n",
      "Block_size:237  --------  Time:4.131899118423462\n",
      "Block_size:238  --------  Time:69.91818737983704\n",
      "Block_size:239  --------  Time:4.2412567138671875\n",
      "Block_size:240  --------  Time:4.292750597000122\n",
      "Block_size:241  --------  Time:4.038161754608154\n",
      "Block_size:242  --------  Time:4.065840005874634\n",
      "Block_size:243  --------  Time:4.08165168762207\n",
      "Block_size:244  --------  Time:4.113787412643433\n",
      "Block_size:245  --------  Time:4.083174467086792\n",
      "Block_size:246  --------  Time:4.1122026443481445\n",
      "Block_size:247  --------  Time:4.130028009414673\n",
      "Block_size:248  --------  Time:4.139732599258423\n",
      "Block_size:249  --------  Time:4.162128210067749\n",
      "Block_size:250  --------  Time:69.8436427116394\n",
      "Block_size:251  --------  Time:4.145480394363403\n",
      "Block_size:252  --------  Time:4.157367944717407\n",
      "Block_size:253  --------  Time:4.282232761383057\n",
      "Block_size:254  --------  Time:4.776003837585449\n",
      "Block_size:255  --------  Time:4.174931049346924\n",
      "Block_size:256  --------  Time:4.272540330886841\n"
     ]
    }
   ],
   "source": [
    "t_lst = []\n",
    "for i in range(2, 257):\n",
    "    block_size = i\n",
    "    time_taken = encrypt_decrypt(plain_text, block_size)\n",
    "    t_lst.append(time_taken)\n",
    "    print('Block_size:'+str(i)+\"  --------  Time:\"+str(time_taken))\n"
   ]
  },
  {
   "cell_type": "code",
   "execution_count": 7,
   "metadata": {},
   "outputs": [
    {
     "data": {
      "image/png": "[encoded data removed]",
      "text/plain": [
       "<Figure size 432x288 with 1 Axes>"
      ]
     },
     "metadata": {
      "needs_background": "light"
     },
     "output_type": "display_data"
    }
   ],
   "source": [
    "x = np.arange(2,257)  # the label locations\n",
    "width = 0.25  # the width of the bars\n",
    "\n",
    "fig, ax = plt.subplots()\n",
    "# Set position of bar on X axis\n",
    "plt.bar(x, t_lst, width=width)\n",
    "plt.xlabel('Block Size')\n",
    "plt.ylabel('Time for Encrypt-Decrypt Cycle')\n",
    "plt.show()"
   ]
  },
  {
   "cell_type": "code",
   "execution_count": 10,
   "metadata": {
    "scrolled": true
   },
   "outputs": [
    {
     "name": "stdout",
     "output_type": "stream",
     "text": [
      "Curve Parameter (a,b) =  [0.02583131 1.20821134]\n"
     ]
    },
    {
     "data": {
      "image/png": "[encoded data removed]",
      "text/plain": [
       "<Figure size 432x288 with 1 Axes>"
      ]
     },
     "metadata": {
      "needs_background": "light"
     },
     "output_type": "display_data"
    },
    {
     "data": {
      "text/plain": [
       "<Figure size 360x360 with 0 Axes>"
      ]
     },
     "metadata": {},
     "output_type": "display_data"
    }
   ],
   "source": [
    "from scipy import optimize\n",
    "\n",
    "def test_func(x, a, b):\n",
    "    return x*a+b \n",
    "\n",
    "param, param_cov = optimize.curve_fit(test_func, x, t_lst)\n",
    "print('Curve Parameter (a,b) = ',param)\n",
    "ans = (param[0]*x+param[1]) \n",
    "  \n",
    "plt.plot(x, t_lst,'.',0.5, color ='blue', label =\"data\") \n",
    "plt.plot(x, ans,'-', color ='red', label =\"optimized data\") \n",
    "plt.xlabel('Block Size')\n",
    "plt.ylabel('Time for Encrypt-Decrypt Cycle')\n",
    "plt.legend()\n",
    "plt.figure(figsize=(5,5))\n",
    "plt.show() "
   ]
  },
  {
   "cell_type": "code",
   "execution_count": 9,
   "metadata": {},
   "outputs": [
    {
     "data": {
      "image/png": "[encoded data removed]",
      "text/plain": [
       "<Figure size 432x288 with 1 Axes>"
      ]
     },
     "metadata": {
      "needs_background": "light"
     },
     "output_type": "display_data"
    }
   ],
   "source": [
    "plt.plot(x, t_lst)\n",
    "plt.xlabel('Block Size')\n",
    "plt.ylabel('Time for Encrypt-Decrypt Cycle')\n",
    "plt.show()"
   ]
  },
  {
   "cell_type": "code",
   "execution_count": null,
   "metadata": {},
   "outputs": [],
   "source": []
  }
 ],
 "metadata": {
  "kernelspec": {
   "display_name": "Python 3",
   "language": "python",
   "name": "python3"
  },
  "language_info": {
   "codemirror_mode": {
    "name": "ipython",
    "version": 3
   },
   "file_extension": ".py",
   "mimetype": "text/x-python",
   "name": "python",
   "nbconvert_exporter": "python",
   "pygments_lexer": "ipython3",
   "version": "3.8.3"
  }
 },
 "nbformat": 4,
 "nbformat_minor": 4
}
