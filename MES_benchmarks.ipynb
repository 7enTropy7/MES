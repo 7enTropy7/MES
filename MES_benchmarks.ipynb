{
 "cells": [
  {
   "cell_type": "markdown",
   "metadata": {},
   "source": [
    "# MES Experimental Analysis\n",
    "This file contains all the experimental analysis required to prove the worth and place of the proposed cryptosystem, among the already existing pool"
   ]
  },
  {
   "cell_type": "markdown",
   "metadata": {},
   "source": [
    "## Block Size vs Runtime"
   ]
  },
  {
   "cell_type": "code",
   "execution_count": 1,
   "metadata": {},
   "outputs": [],
   "source": [
    "import numpy as np\n",
    "from sympy import prime\n",
    "from sympy.ntheory.modular import crt\n",
    "import random\n",
    "import time\n",
    "from matplotlib import pyplot as plt\n",
    "%matplotlib inline"
   ]
  },
  {
   "cell_type": "markdown",
   "metadata": {},
   "source": [
    "## Cantor Pairing Function\n",
    "This function takes in a point $(x,y)$ and converts to a single number $t$ and vice versa"
   ]
  },
  {
   "cell_type": "code",
   "execution_count": 2,
   "metadata": {},
   "outputs": [],
   "source": [
    "def cantor_pair(k1, k2, safe=True):\n",
    "    z = int(0.5 * (k1 + k2) * (k1 + k2 + 1) + k2)\n",
    "    if safe and (k1, k2) != cantor_unpair(z):\n",
    "        raise ValueError(\"{} and {} cannot be paired\".format(k1, k2))\n",
    "    return z\n",
    "\n",
    "def cantor_unpair(z):\n",
    "    w = np.floor((np.sqrt(8 * z + 1) - 1) / 2)\n",
    "    t = (w**2 + w) / 2\n",
    "    y = int(z - t)\n",
    "    x = int(w - y)\n",
    "    # assert z != pair(x, y, safe=False):\n",
    "    return (x, y)"
   ]
  },
  {
   "cell_type": "markdown",
   "metadata": {},
   "source": [
    "A padding function is required since we are applying a block cipher technique here"
   ]
  },
  {
   "cell_type": "code",
   "execution_count": 3,
   "metadata": {},
   "outputs": [],
   "source": [
    "def padding(plain_text,block_size):\n",
    "    plain_text += '0'*(block_size-len(plain_text))\n",
    "    return plain_text\n",
    "\n",
    "def chunkstring(string, length):\n",
    "    return list(string[0+i:length+i] for i in range(0, len(string), length))\n",
    "\n",
    "def reduced_ascii_chunks(ascii_chunks):\n",
    "    cantor_reduced_list = []\n",
    "    for i in range(0,len(ascii_chunks)-1,2):\n",
    "        cantor_reduced_list.append(cantor_pair(ascii_chunks[i],ascii_chunks[i+1]))\n",
    "    return cantor_reduced_list"
   ]
  },
  {
   "cell_type": "code",
   "execution_count": 4,
   "metadata": {},
   "outputs": [],
   "source": [
    "def encrypt_decrypt(plain_text,block_size):\n",
    "    t1 = time.time()\n",
    "    n = len(plain_text)\n",
    "    \n",
    "    plain_text_chunks = []\n",
    "    if n < block_size:\n",
    "        plain_text_chunks.append(padding(plain_text,block_size))\n",
    "    else:\n",
    "        chunks = chunkstring(plain_text,block_size)\n",
    "        for i in range(len(chunks)):\n",
    "            plain_text_chunks.append(padding(chunks[i],block_size))\n",
    "\n",
    "    ascii_chunks = []\n",
    "    for chunk in plain_text_chunks:\n",
    "        t = []\n",
    "        for i in chunk:\n",
    "            t.append(ord(i))\n",
    "        ascii_chunks.append(t)\n",
    "\n",
    "    cantor_reduced_list = []\n",
    "    for chunk in ascii_chunks:\n",
    "        cantor_reduced_list.append(reduced_ascii_chunks(chunk))\n",
    "        \n",
    "    temp = []\n",
    "    for chunk in cantor_reduced_list:\n",
    "        for i in chunk:\n",
    "            temp.append(i)\n",
    "    lower_index = max(temp)\n",
    "\n",
    "    M = []\n",
    "    for i in range(block_size//2):\n",
    "        x = prime(random.randint(lower_index,lower_index+1000))\n",
    "        if x not in M:\n",
    "            M.append(x)\n",
    "\n",
    "    # print('Private key generated : ',end='')\n",
    "    # print(M)\n",
    "\n",
    "    # Applying the Chinese Remainder Theorem to get X\n",
    "\n",
    "    cipher_text = []\n",
    "    for chunk in cantor_reduced_list:\n",
    "        x = crt(M,chunk)\n",
    "        cipher_text.append(round(x[0]))\n",
    "    # print('Encrypted Cipher Text : ',cipher_text)\n",
    "\n",
    "\n",
    "    # ---------------------------------DECRYPTION-----------------------------------\n",
    "    # private_key - known\n",
    "    # cipher_text - known\n",
    "    # block_size  - known\n",
    "\n",
    "\n",
    "    dec_M = M\n",
    "\n",
    "    dec_cantor_reduced_list = []\n",
    "    for x in cipher_text:\n",
    "        t = []\n",
    "        for mi in dec_M:\n",
    "            t.append(x%mi)\n",
    "        dec_cantor_reduced_list.append(t)\n",
    "    # print(dec_cantor_reduced_list)\n",
    "\n",
    "    decrypted_ascii_list = []\n",
    "    for chunk in dec_cantor_reduced_list:\n",
    "        t = []\n",
    "        for i in range(len(chunk)):\n",
    "            x,y = cantor_unpair(chunk[i])\n",
    "            t.append(x)\n",
    "            t.append(y)\n",
    "        decrypted_ascii_list.append(t)\n",
    "    \n",
    "    decrypted_text_list = []\n",
    "    for chunk in decrypted_ascii_list:\n",
    "        for i in chunk:\n",
    "            if chr(i)!='0':\n",
    "                decrypted_text_list.append(chr(i))\n",
    "    # print('Decrypted Text : ',end='')\n",
    "    # print(''.join(map(lambda x:str(x),decrypted_text_list)))\n",
    "    return time.time()-t1"
   ]
  },
  {
   "cell_type": "markdown",
   "metadata": {},
   "source": [
    "We define a custom string for testing purposes"
   ]
  },
  {
   "cell_type": "code",
   "execution_count": 5,
   "metadata": {},
   "outputs": [],
   "source": [
    "# plain_text = \"Hello Fawlty Towers, how are you, its nice day\"\n",
    "plain_text = 'abcdefghijklmnopqrstuvwxyz'*1000"
   ]
  },
  {
   "cell_type": "code",
   "execution_count": 6,
   "metadata": {},
   "outputs": [
    {
     "name": "stdout",
     "output_type": "stream",
     "text": [
      "Block_size:2  --------  Time:0.424105167388916\n",
      "Block_size:3  --------  Time:0.22411513328552246\n",
      "Block_size:4  --------  Time:0.40778470039367676\n",
      "Block_size:5  --------  Time:0.31844663619995117\n",
      "Block_size:6  --------  Time:0.42209815979003906\n",
      "Block_size:7  --------  Time:0.36493468284606934\n",
      "Block_size:8  --------  Time:0.4425954818725586\n",
      "Block_size:9  --------  Time:0.8233041763305664\n",
      "Block_size:10  --------  Time:0.5038051605224609\n",
      "Block_size:11  --------  Time:0.44031739234924316\n",
      "Block_size:12  --------  Time:0.5324156284332275\n",
      "Block_size:13  --------  Time:0.5216844081878662\n",
      "Block_size:14  --------  Time:0.5815153121948242\n",
      "Block_size:15  --------  Time:0.5313751697540283\n",
      "Block_size:16  --------  Time:0.5799844264984131\n",
      "Block_size:17  --------  Time:0.5694780349731445\n",
      "Block_size:18  --------  Time:0.586247444152832\n",
      "Block_size:19  --------  Time:0.6624729633331299\n",
      "Block_size:20  --------  Time:80.38609576225281\n",
      "Block_size:21  --------  Time:0.6503159999847412\n",
      "Block_size:22  --------  Time:0.6479663848876953\n",
      "Block_size:23  --------  Time:0.6427686214447021\n",
      "Block_size:24  --------  Time:0.7076692581176758\n",
      "Block_size:25  --------  Time:0.7047209739685059\n",
      "Block_size:26  --------  Time:0.78460693359375\n",
      "Block_size:27  --------  Time:0.7959747314453125\n",
      "Block_size:28  --------  Time:0.8177809715270996\n",
      "Block_size:29  --------  Time:0.9726653099060059\n",
      "Block_size:30  --------  Time:0.8316621780395508\n",
      "Block_size:31  --------  Time:0.7994420528411865\n",
      "Block_size:32  --------  Time:4.421769380569458\n",
      "Block_size:33  --------  Time:0.8397760391235352\n",
      "Block_size:34  --------  Time:0.8972761631011963\n",
      "Block_size:35  --------  Time:6.499248743057251\n",
      "Block_size:36  --------  Time:0.9771029949188232\n",
      "Block_size:37  --------  Time:0.9033045768737793\n",
      "Block_size:38  --------  Time:1.141423225402832\n",
      "Block_size:39  --------  Time:1.0027072429656982\n",
      "Block_size:40  --------  Time:1.0049548149108887\n",
      "Block_size:41  --------  Time:1.1137218475341797\n",
      "Block_size:42  --------  Time:1.0843465328216553\n",
      "Block_size:43  --------  Time:1.062523603439331\n",
      "Block_size:44  --------  Time:1.095104694366455\n",
      "Block_size:45  --------  Time:1.143808364868164\n",
      "Block_size:46  --------  Time:1.1590657234191895\n",
      "Block_size:47  --------  Time:1.2139561176300049\n",
      "Block_size:48  --------  Time:1.2295522689819336\n",
      "Block_size:49  --------  Time:1.3181707859039307\n",
      "Block_size:50  --------  Time:1.2244741916656494\n",
      "Block_size:51  --------  Time:1.2004244327545166\n",
      "Block_size:52  --------  Time:1.2396564483642578\n",
      "Block_size:53  --------  Time:1.2514917850494385\n",
      "Block_size:54  --------  Time:1.2928743362426758\n",
      "Block_size:55  --------  Time:1.3636963367462158\n",
      "Block_size:56  --------  Time:1.4813404083251953\n",
      "Block_size:57  --------  Time:1.3106553554534912\n",
      "Block_size:58  --------  Time:1.3089287281036377\n",
      "Block_size:59  --------  Time:1.4238698482513428\n",
      "Block_size:60  --------  Time:1.4108517169952393\n",
      "Block_size:61  --------  Time:1.7221858501434326\n",
      "Block_size:62  --------  Time:1.365565299987793\n",
      "Block_size:63  --------  Time:1.391204833984375\n",
      "Block_size:64  --------  Time:1.4079856872558594\n",
      "Block_size:65  --------  Time:1.4689226150512695\n",
      "Block_size:66  --------  Time:1.527635097503662\n",
      "Block_size:67  --------  Time:1.4410674571990967\n",
      "Block_size:68  --------  Time:1.8005280494689941\n",
      "Block_size:69  --------  Time:1.5190320014953613\n",
      "Block_size:70  --------  Time:1.716655969619751\n",
      "Block_size:71  --------  Time:1.7197175025939941\n",
      "Block_size:72  --------  Time:1.5847198963165283\n",
      "Block_size:73  --------  Time:1.7470898628234863\n",
      "Block_size:74  --------  Time:1.7411868572235107\n",
      "Block_size:75  --------  Time:1.6937346458435059\n",
      "Block_size:76  --------  Time:1.9550678730010986\n",
      "Block_size:77  --------  Time:1.8225350379943848\n",
      "Block_size:78  --------  Time:7.206859588623047\n",
      "Block_size:79  --------  Time:5.244050979614258\n",
      "Block_size:80  --------  Time:1.7583765983581543\n",
      "Block_size:81  --------  Time:81.48977279663086\n",
      "Block_size:82  --------  Time:1.9263131618499756\n",
      "Block_size:83  --------  Time:1.9798569679260254\n",
      "Block_size:84  --------  Time:2.057736873626709\n",
      "Block_size:85  --------  Time:2.0250959396362305\n",
      "Block_size:86  --------  Time:2.368605613708496\n",
      "Block_size:87  --------  Time:2.004819631576538\n",
      "Block_size:88  --------  Time:2.2056009769439697\n",
      "Block_size:89  --------  Time:2.0531845092773438\n",
      "Block_size:90  --------  Time:2.3367927074432373\n",
      "Block_size:91  --------  Time:2.2670280933380127\n",
      "Block_size:92  --------  Time:2.0870261192321777\n",
      "Block_size:93  --------  Time:2.122042417526245\n",
      "Block_size:94  --------  Time:2.1669223308563232\n",
      "Block_size:95  --------  Time:2.1418302059173584\n",
      "Block_size:96  --------  Time:2.202702760696411\n",
      "Block_size:97  --------  Time:2.2206311225891113\n",
      "Block_size:98  --------  Time:2.290806293487549\n",
      "Block_size:99  --------  Time:2.229813814163208\n",
      "Block_size:100  --------  Time:2.2971243858337402\n",
      "Block_size:101  --------  Time:2.2566816806793213\n",
      "Block_size:102  --------  Time:2.333738327026367\n",
      "Block_size:103  --------  Time:2.3123528957366943\n",
      "Block_size:104  --------  Time:2.327286720275879\n",
      "Block_size:105  --------  Time:2.502501964569092\n",
      "Block_size:106  --------  Time:82.63569474220276\n",
      "Block_size:107  --------  Time:2.508495330810547\n",
      "Block_size:108  --------  Time:6.210737466812134\n",
      "Block_size:109  --------  Time:2.7158100605010986\n",
      "Block_size:110  --------  Time:2.53877854347229\n",
      "Block_size:111  --------  Time:2.542430877685547\n",
      "Block_size:112  --------  Time:2.598432779312134\n",
      "Block_size:113  --------  Time:2.4998321533203125\n",
      "Block_size:114  --------  Time:2.571577310562134\n",
      "Block_size:115  --------  Time:2.5303311347961426\n",
      "Block_size:116  --------  Time:2.7227516174316406\n",
      "Block_size:117  --------  Time:8.407492637634277\n",
      "Block_size:118  --------  Time:2.591418504714966\n",
      "Block_size:119  --------  Time:2.5636746883392334\n",
      "Block_size:120  --------  Time:6.301567316055298\n",
      "Block_size:121  --------  Time:2.6424331665039062\n",
      "Block_size:122  --------  Time:2.7315258979797363\n",
      "Block_size:123  --------  Time:2.80806303024292\n",
      "Block_size:124  --------  Time:2.672179937362671\n",
      "Block_size:125  --------  Time:82.76411437988281\n",
      "Block_size:126  --------  Time:2.8729026317596436\n",
      "Block_size:127  --------  Time:2.8778300285339355\n",
      "Block_size:128  --------  Time:2.998608112335205\n",
      "Block_size:129  --------  Time:2.9835808277130127\n",
      "Block_size:130  --------  Time:3.1058189868927\n",
      "Block_size:131  --------  Time:3.0525405406951904\n",
      "Block_size:132  --------  Time:3.1094746589660645\n",
      "Block_size:133  --------  Time:3.2199084758758545\n",
      "Block_size:134  --------  Time:3.1386983394622803\n",
      "Block_size:135  --------  Time:3.2666358947753906\n",
      "Block_size:136  --------  Time:3.0323104858398438\n",
      "Block_size:137  --------  Time:3.0588877201080322\n",
      "Block_size:138  --------  Time:3.0928239822387695\n",
      "Block_size:139  --------  Time:3.0048272609710693\n",
      "Block_size:140  --------  Time:3.0617105960845947\n",
      "Block_size:141  --------  Time:3.015444755554199\n",
      "Block_size:142  --------  Time:3.2237532138824463\n",
      "Block_size:143  --------  Time:3.1449570655822754\n",
      "Block_size:144  --------  Time:3.187772512435913\n",
      "Block_size:145  --------  Time:87.85269570350647\n",
      "Block_size:146  --------  Time:3.499781847000122\n",
      "Block_size:147  --------  Time:3.476855993270874\n",
      "Block_size:148  --------  Time:3.340489625930786\n",
      "Block_size:149  --------  Time:8.958351135253906\n",
      "Block_size:150  --------  Time:6.960093021392822\n",
      "Block_size:151  --------  Time:3.439666271209717\n",
      "Block_size:152  --------  Time:3.5765862464904785\n",
      "Block_size:153  --------  Time:3.6580488681793213\n",
      "Block_size:154  --------  Time:3.4567649364471436\n",
      "Block_size:155  --------  Time:3.433738946914673\n",
      "Block_size:156  --------  Time:73.84765958786011\n",
      "Block_size:157  --------  Time:2.7981040477752686\n",
      "Block_size:158  --------  Time:2.86004900932312\n",
      "Block_size:159  --------  Time:2.8364665508270264\n",
      "Block_size:160  --------  Time:3.138159990310669\n",
      "Block_size:161  --------  Time:2.9673776626586914\n",
      "Block_size:162  --------  Time:2.927374839782715\n",
      "Block_size:163  --------  Time:2.998818874359131\n",
      "Block_size:164  --------  Time:2.915114402770996\n",
      "Block_size:165  --------  Time:2.9367620944976807\n",
      "Block_size:166  --------  Time:2.9688258171081543\n",
      "Block_size:167  --------  Time:71.66793036460876\n",
      "Block_size:168  --------  Time:3.4842357635498047\n",
      "Block_size:169  --------  Time:9.70563530921936\n"
     ]
    },
    {
     "name": "stdout",
     "output_type": "stream",
     "text": [
      "Block_size:170  --------  Time:3.89404296875\n",
      "Block_size:171  --------  Time:3.781912326812744\n",
      "Block_size:172  --------  Time:3.342621088027954\n",
      "Block_size:173  --------  Time:6.469117641448975\n",
      "Block_size:174  --------  Time:3.6274282932281494\n",
      "Block_size:175  --------  Time:3.4464404582977295\n",
      "Block_size:176  --------  Time:3.31874418258667\n",
      "Block_size:177  --------  Time:3.1682357788085938\n",
      "Block_size:178  --------  Time:3.17763352394104\n",
      "Block_size:179  --------  Time:3.557105541229248\n",
      "Block_size:180  --------  Time:3.616955041885376\n",
      "Block_size:181  --------  Time:6.902158260345459\n",
      "Block_size:182  --------  Time:3.663933753967285\n",
      "Block_size:183  --------  Time:3.6449949741363525\n",
      "Block_size:184  --------  Time:3.7964060306549072\n",
      "Block_size:185  --------  Time:4.0455241203308105\n",
      "Block_size:186  --------  Time:76.75473165512085\n",
      "Block_size:187  --------  Time:3.5173146724700928\n",
      "Block_size:188  --------  Time:3.315382719039917\n",
      "Block_size:189  --------  Time:3.3565914630889893\n",
      "Block_size:190  --------  Time:3.4010791778564453\n",
      "Block_size:191  --------  Time:3.3694164752960205\n",
      "Block_size:192  --------  Time:3.607473373413086\n",
      "Block_size:193  --------  Time:6.54505181312561\n",
      "Block_size:194  --------  Time:3.4295382499694824\n",
      "Block_size:195  --------  Time:74.03173279762268\n",
      "Block_size:196  --------  Time:3.6939640045166016\n",
      "Block_size:197  --------  Time:3.5321037769317627\n",
      "Block_size:198  --------  Time:3.4441373348236084\n",
      "Block_size:199  --------  Time:3.387871503829956\n",
      "Block_size:200  --------  Time:3.610353469848633\n",
      "Block_size:201  --------  Time:3.532323122024536\n",
      "Block_size:202  --------  Time:8.63349962234497\n",
      "Block_size:203  --------  Time:3.5534257888793945\n",
      "Block_size:204  --------  Time:3.567842721939087\n",
      "Block_size:205  --------  Time:72.05398845672607\n",
      "Block_size:206  --------  Time:6.758920192718506\n",
      "Block_size:207  --------  Time:3.6381149291992188\n",
      "Block_size:208  --------  Time:4.098867416381836\n",
      "Block_size:209  --------  Time:3.695585250854492\n",
      "Block_size:210  --------  Time:3.772073745727539\n",
      "Block_size:211  --------  Time:3.7439534664154053\n",
      "Block_size:212  --------  Time:3.89067006111145\n",
      "Block_size:213  --------  Time:3.791797399520874\n",
      "Block_size:214  --------  Time:3.8198559284210205\n",
      "Block_size:215  --------  Time:3.7243096828460693\n",
      "Block_size:216  --------  Time:4.058231353759766\n",
      "Block_size:217  --------  Time:3.884028911590576\n",
      "Block_size:218  --------  Time:3.9385714530944824\n",
      "Block_size:219  --------  Time:3.9903838634490967\n",
      "Block_size:220  --------  Time:3.952641248703003\n",
      "Block_size:221  --------  Time:7.268989324569702\n",
      "Block_size:222  --------  Time:4.134860992431641\n",
      "Block_size:223  --------  Time:3.862841844558716\n",
      "Block_size:224  --------  Time:3.88706374168396\n",
      "Block_size:225  --------  Time:3.933302402496338\n",
      "Block_size:226  --------  Time:4.289100170135498\n",
      "Block_size:227  --------  Time:3.9997165203094482\n",
      "Block_size:228  --------  Time:4.16746187210083\n",
      "Block_size:229  --------  Time:4.0016930103302\n",
      "Block_size:230  --------  Time:4.1775007247924805\n",
      "Block_size:231  --------  Time:8.944811582565308\n",
      "Block_size:232  --------  Time:7.297184705734253\n",
      "Block_size:233  --------  Time:4.236416578292847\n",
      "Block_size:234  --------  Time:4.206435918807983\n",
      "Block_size:235  --------  Time:4.2897047996521\n",
      "Block_size:236  --------  Time:4.313291311264038\n",
      "Block_size:237  --------  Time:4.129104137420654\n",
      "Block_size:238  --------  Time:4.209882020950317\n",
      "Block_size:239  --------  Time:4.191091299057007\n",
      "Block_size:240  --------  Time:77.22294354438782\n",
      "Block_size:241  --------  Time:4.188097715377808\n",
      "Block_size:242  --------  Time:4.310473203659058\n",
      "Block_size:243  --------  Time:4.174612522125244\n",
      "Block_size:244  --------  Time:7.338708877563477\n",
      "Block_size:245  --------  Time:4.7131242752075195\n",
      "Block_size:246  --------  Time:4.274118900299072\n",
      "Block_size:247  --------  Time:4.253645896911621\n",
      "Block_size:248  --------  Time:4.460670709609985\n",
      "Block_size:249  --------  Time:4.469740390777588\n",
      "Block_size:250  --------  Time:7.460893869400024\n",
      "Block_size:251  --------  Time:4.367291688919067\n",
      "Block_size:252  --------  Time:4.40875768661499\n",
      "Block_size:253  --------  Time:73.12955093383789\n",
      "Block_size:254  --------  Time:4.451742887496948\n",
      "Block_size:255  --------  Time:9.738046884536743\n",
      "Block_size:256  --------  Time:4.48967170715332\n"
     ]
    }
   ],
   "source": [
    "t_lst = []\n",
    "for i in range(2, 257):\n",
    "    block_size = i\n",
    "    time_taken = encrypt_decrypt(plain_text, block_size)\n",
    "    t_lst.append(time_taken)\n",
    "    print('Block_size:'+str(i)+\"  --------  Time:\"+str(time_taken))\n"
   ]
  },
  {
   "cell_type": "code",
   "execution_count": 7,
   "metadata": {},
   "outputs": [
    {
     "data": {
      "image/png": "[encoded data removed]",
      "text/plain": [
       "<Figure size 432x288 with 1 Axes>"
      ]
     },
     "metadata": {
      "needs_background": "light"
     },
     "output_type": "display_data"
    }
   ],
   "source": [
    "x = np.arange(2,257)  # the label locations\n",
    "width = 0.25  # the width of the bars\n",
    "\n",
    "fig, ax = plt.subplots()\n",
    "# Set position of bar on X axis\n",
    "plt.bar(x, t_lst, width=width)\n",
    "plt.xlabel('Block Size')\n",
    "plt.ylabel('Time for Encrypt-Decrypt Cycle')\n",
    "plt.show()"
   ]
  },
  {
   "cell_type": "code",
   "execution_count": 21,
   "metadata": {
    "scrolled": true
   },
   "outputs": [
    {
     "name": "stdout",
     "output_type": "stream",
     "text": [
      "Curve Parameter (a,b) =  [0.03384325 2.11103598]\n"
     ]
    },
    {
     "data": {
      "image/png": "[encoded data removed]",
      "text/plain": [
       "<Figure size 432x288 with 1 Axes>"
      ]
     },
     "metadata": {
      "needs_background": "light"
     },
     "output_type": "display_data"
    },
    {
     "data": {
      "text/plain": [
       "<Figure size 360x360 with 0 Axes>"
      ]
     },
     "metadata": {},
     "output_type": "display_data"
    }
   ],
   "source": [
    "from scipy import optimize\n",
    "\n",
    "def test_func(x, a, b):\n",
    "    return x*a+b \n",
    "\n",
    "param, param_cov = optimize.curve_fit(test_func, x, t_lst,p0=[2,2])\n",
    "print('Curve Parameter (a,b) = ',param)\n",
    "ans = (param[0]*x+param[1]) \n",
    "  \n",
    "plt.plot(x, t_lst,'.',0.5, color ='blue', label =\"data\") \n",
    "plt.plot(x, ans,'-', color ='red', label =\"optimized data\") \n",
    "plt.xlabel('Block Size')\n",
    "plt.ylabel('Time for Encrypt-Decrypt Cycle')\n",
    "plt.legend()\n",
    "plt.figure(figsize=(5,5))\n",
    "plt.show() "
   ]
  },
  {
   "cell_type": "code",
   "execution_count": 22,
   "metadata": {},
   "outputs": [
    {
     "data": {
      "image/png": "[encoded data removed]",
      "text/plain": [
       "<Figure size 432x288 with 1 Axes>"
      ]
     },
     "metadata": {
      "needs_background": "light"
     },
     "output_type": "display_data"
    }
   ],
   "source": [
    "plt.plot(x, t_lst)\n",
    "plt.xlabel('Block Size')\n",
    "plt.ylabel('Time for Encrypt-Decrypt Cycle')\n",
    "plt.show()"
   ]
  },
  {
   "cell_type": "code",
   "execution_count": null,
   "metadata": {},
   "outputs": [],
   "source": []
  }
 ],
 "metadata": {
  "kernelspec": {
   "display_name": "Python 3",
   "language": "python",
   "name": "python3"
  },
  "language_info": {
   "codemirror_mode": {
    "name": "ipython",
    "version": 3
   },
   "file_extension": ".py",
   "mimetype": "text/x-python",
   "name": "python",
   "nbconvert_exporter": "python",
   "pygments_lexer": "ipython3",
   "version": "3.8.3"
  }
 },
 "nbformat": 4,
 "nbformat_minor": 4
}
