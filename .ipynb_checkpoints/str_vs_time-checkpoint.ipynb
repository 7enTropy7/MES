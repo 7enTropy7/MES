{
 "cells": [
  {
   "cell_type": "markdown",
   "metadata": {},
   "source": [
    "Stringlength vs. Time for encryption-decryption"
   ]
  },
  {
   "cell_type": "code",
   "execution_count": 3,
   "metadata": {},
   "outputs": [],
   "source": [
    "import numpy as np\n",
    "import sympy\n",
    "from sympy import prime\n",
    "from sympy.ntheory.modular import crt\n",
    "import random\n",
    "import time\n",
    "from matplotlib import pyplot as plt\n",
    "%matplotlib inline"
   ]
  },
  {
   "cell_type": "code",
   "execution_count": null,
   "metadata": {},
   "outputs": [],
   "source": [
    "def cantor_pair(k1, k2, safe=True):\n",
    "    z = int(0.5 * (k1 + k2) * (k1 + k2 + 1) + k2)\n",
    "    if safe and (k1, k2) != cantor_unpair(z):\n",
    "        raise ValueError(\"{} and {} cannot be paired\".format(k1, k2))\n",
    "    return z\n",
    "\n",
    "def cantor_unpair(z):\n",
    "    w = np.floor((np.sqrt(8 * z + 1) - 1) / 2)\n",
    "    t = (w**2 + w) / 2\n",
    "    y = int(z - t)\n",
    "    x = int(w - y)\n",
    "    # assert z != pair(x, y, safe=False):\n",
    "    return (x, y)\n"
   ]
  }
 ],
 "metadata": {
  "file_extension": ".py",
  "kernelspec": {
   "display_name": "Python 3.7.3 64-bit",
   "language": "python",
   "name": "python37364bitcdaf122ac8dd42cbae2e0f9656f523a6"
  },
  "language_info": {
   "codemirror_mode": {
    "name": "ipython",
    "version": 3
   },
   "file_extension": ".py",
   "mimetype": "text/x-python",
   "name": "python",
   "nbconvert_exporter": "python",
   "pygments_lexer": "ipython3",
   "version": "3.8.2"
  },
  "mimetype": "text/x-python",
  "name": "python",
  "npconvert_exporter": "python",
  "pygments_lexer": "ipython3",
  "version": 3
 },
 "nbformat": 4,
 "nbformat_minor": 2
}
