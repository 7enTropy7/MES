{
 "cells": [
  {
   "cell_type": "markdown",
   "metadata": {},
   "source": [
    "Stringlength vs. Time for encryption-decryption"
   ]
  },
  {
   "cell_type": "code",
   "execution_count": 1,
   "metadata": {},
   "outputs": [],
   "source": [
    "import numpy as np\n",
    "import sympy\n",
    "from sympy import prime\n",
    "from sympy.ntheory.modular import crt\n",
    "import random\n",
    "import time\n",
    "from matplotlib import pyplot as plt\n",
    "%matplotlib inline"
   ]
  },
  {
   "cell_type": "code",
   "execution_count": 2,
   "metadata": {},
   "outputs": [],
   "source": [
    "def cantor_pair(k1, k2, safe=True):\n",
    "    z = int(0.5 * (k1 + k2) * (k1 + k2 + 1) + k2)\n",
    "    if safe and (k1, k2) != cantor_unpair(z):\n",
    "        raise ValueError(\"{} and {} cannot be paired\".format(k1, k2))\n",
    "    return z\n",
    "\n",
    "def cantor_unpair(z):\n",
    "    w = np.floor((np.sqrt(8 * z + 1) - 1) / 2)\n",
    "    t = (w**2 + w) / 2\n",
    "    y = int(z - t)\n",
    "    x = int(w - y)\n",
    "    # assert z != pair(x, y, safe=False):\n",
    "    return (x, y)\n",
    "def padding(plain_text,block_size):\n",
    "    plain_text += '0'*(block_size-len(plain_text))\n",
    "    return plain_text\n",
    "\n",
    "def chunkstring(string, length):\n",
    "    return list(string[0+i:length+i] for i in range(0, len(string), length))\n",
    "\n",
    "def reduced_ascii_chunks(ascii_chunks):\n",
    "    cantor_reduced_list = []\n",
    "    for i in range(0,len(ascii_chunks)-1,2):\n",
    "        cantor_reduced_list.append(cantor_pair(ascii_chunks[i],ascii_chunks[i+1]))\n",
    "    return cantor_reduced_list\n",
    "def encrypt_decrypt(plain_text,block_size):\n",
    "    n = len(plain_text)\n",
    "    M = []\n",
    "    for i in range(1,block_size//2+1):\n",
    "        M.append(sympy.ntheory.generate.nextprime(33024,ith=i))\n",
    "    random.shuffle(M)\n",
    "    \n",
    "    t1 = time.time()\n",
    "    \n",
    "    plain_text_chunks = []\n",
    "    if n < block_size:\n",
    "        plain_text_chunks.append(padding(plain_text,block_size))\n",
    "    else:\n",
    "        chunks = chunkstring(plain_text,block_size)\n",
    "        for i in range(len(chunks)):\n",
    "            plain_text_chunks.append(padding(chunks[i],block_size))\n",
    "\n",
    "    ascii_chunks = []\n",
    "    for chunk in plain_text_chunks:\n",
    "        t = []\n",
    "        for i in chunk:\n",
    "            t.append(ord(i))\n",
    "        ascii_chunks.append(t)\n",
    "\n",
    "    cantor_reduced_list = []\n",
    "    for chunk in ascii_chunks:\n",
    "        cantor_reduced_list.append(reduced_ascii_chunks(chunk))\n",
    "        \n",
    "    # Applying the Chinese Remainder Theorem to get X\n",
    "\n",
    "    cipher_text = []\n",
    "    for chunk in cantor_reduced_list:\n",
    "        x = crt(M,chunk)\n",
    "        cipher_text.append(round(x[0]))\n",
    "    # print('Encrypted Cipher Text : ',cipher_text)\n",
    "\n",
    "\n",
    "    # ---------------------------------DECRYPTION-----------------------------------\n",
    "    # private_key - known\n",
    "    # cipher_text - known\n",
    "    # block_size  - known\n",
    "\n",
    "\n",
    "    dec_M = M\n",
    "\n",
    "    dec_cantor_reduced_list = []\n",
    "    for x in cipher_text:\n",
    "        t = []\n",
    "        for mi in dec_M:\n",
    "            t.append(x%mi)\n",
    "        dec_cantor_reduced_list.append(t)\n",
    "    # print(dec_cantor_reduced_list)\n",
    "\n",
    "    decrypted_ascii_list = []\n",
    "    for chunk in dec_cantor_reduced_list:\n",
    "        t = []\n",
    "        for i in range(len(chunk)):\n",
    "            x,y = cantor_unpair(chunk[i])\n",
    "            t.append(x)\n",
    "            t.append(y)\n",
    "        decrypted_ascii_list.append(t)\n",
    "    \n",
    "    decrypted_text_list = []\n",
    "    for chunk in decrypted_ascii_list:\n",
    "        for i in chunk:\n",
    "            if chr(i)!='0':\n",
    "                decrypted_text_list.append(chr(i))\n",
    "    # print('Decrypted Text : ',end='')\n",
    "    # print(''.join(map(lambda x:str(x),decrypted_text_list)))\n",
    "    return time.time()-t1"
   ]
  },
  {
   "cell_type": "code",
   "execution_count": 3,
   "metadata": {},
   "outputs": [],
   "source": [
    "epochs = 7\n",
    "block_sizes = [128,192,256]\n",
    "t_lst = []\n",
    "for i in range(epochs):\n",
    "    plain_text = 'abcdefghij'*(10**i)\n",
    "    temp = []\n",
    "    for block_size in block_sizes:\n",
    "        temp.append(encrypt_decrypt(plain_text, block_size))\n",
    "    t_lst.append(temp)\n"
   ]
  },
  {
   "cell_type": "code",
   "execution_count": 4,
   "metadata": {},
   "outputs": [
    {
     "name": "stdout",
     "output_type": "stream",
     "text": [
      "Stringlength      128_blocksize      192_blocksize      256_blocksize\n",
      "10^1\t\t\t0.001\t\t0.002\t\t0.003\n",
      "10^2\t\t\t0.002\t\t0.002\t\t0.002\n",
      "10^3\t\t\t0.011\t\t0.012\t\t0.011\n",
      "10^4\t\t\t0.13\t\t0.11\t\t0.115\n",
      "10^5\t\t\t0.943\t\t1.053\t\t1.062\n",
      "10^6\t\t\t9.807\t\t10.535\t\t11.106\n",
      "10^7\t\t\t99.458\t\t106.824\t\t111.409\n"
     ]
    }
   ],
   "source": [
    "print('Stringlength      128_blocksize      192_blocksize      256_blocksize')\n",
    "time_block_128 = []\n",
    "time_block_192 = []\n",
    "time_block_256 = []\n",
    "\n",
    "for t in range(len(t_lst)):\n",
    "    time_block_128.append(t_lst[t][0])\n",
    "    time_block_192.append(t_lst[t][1])\n",
    "    time_block_256.append(t_lst[t][2])\n",
    "    print('10^'+str(t+1)+'\\t\\t\\t'+str(round(t_lst[t][0],3))+'\\t\\t'+str(round(t_lst[t][1],3))+'\\t\\t'+str(round(t_lst[t][2],3)))\n"
   ]
  },
  {
   "cell_type": "code",
   "execution_count": 5,
   "metadata": {},
   "outputs": [
    {
     "data": {
      "text/plain": [
       "<matplotlib.legend.Legend at 0x7fb1e640f520>"
      ]
     },
     "execution_count": 5,
     "metadata": {},
     "output_type": "execute_result"
    },
    {
     "data": {
      "image/png": "[encoded data removed]",
      "text/plain": [
       "<Figure size 432x288 with 1 Axes>"
      ]
     },
     "metadata": {
      "needs_background": "light"
     },
     "output_type": "display_data"
    }
   ],
   "source": [
    "x = []\n",
    "for i in range(1,epochs+1):\n",
    "    x.append(10**i)\n",
    "\n",
    "plt.plot(x, time_block_128,'-', color ='blue', label =\"128\") \n",
    "plt.plot(x, time_block_192, '-', color ='red', label =\"192\")\n",
    "plt.plot(x, time_block_256, '-', color ='green', label =\"256\")\n",
    "#plt.title('Stringlength vs runtime')\n",
    "plt.xlabel('Stringlength')\n",
    "plt.ylabel('Runtime')\n",
    "plt.legend(loc=\"best\",title=\"Blocksize\")"
   ]
  },
  {
   "cell_type": "code",
   "execution_count": null,
   "metadata": {},
   "outputs": [],
   "source": []
  }
 ],
 "metadata": {
  "file_extension": ".py",
  "kernelspec": {
   "display_name": "Python 3.7.3 64-bit",
   "language": "python",
   "name": "python37364bitcdaf122ac8dd42cbae2e0f9656f523a6"
  },
  "language_info": {
   "codemirror_mode": {
    "name": "ipython",
    "version": 3
   },
   "file_extension": ".py",
   "mimetype": "text/x-python",
   "name": "python",
   "nbconvert_exporter": "python",
   "pygments_lexer": "ipython3",
   "version": "3.8.2"
  },
  "mimetype": "text/x-python",
  "name": "python",
  "npconvert_exporter": "python",
  "pygments_lexer": "ipython3",
  "version": 3
 },
 "nbformat": 4,
 "nbformat_minor": 2
}
